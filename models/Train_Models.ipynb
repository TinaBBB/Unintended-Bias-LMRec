{
 "cells": [
  {
   "cell_type": "code",
   "execution_count": null,
   "id": "ecf2c668",
   "metadata": {},
   "outputs": [],
   "source": [
    "# To be run on Google Colab!\n",
    "!mkdir -p utoronto/edu/ca/\n",
    "!wget --output-document=utoronto/edu/ca/data.py https://raw.githubusercontent.com/rbouadjenek/WWW22_LMRec/main/utoronto/edu/ca/data.py?token=AB3APX6V6XBICX6ZRUMCBBTBQ5GF4 > /dev/null 2> /dev/null\n",
    "!wget --output-document=utoronto/edu/ca/models.py https://raw.githubusercontent.com/rbouadjenek/WWW22_LMRec/main/utoronto/edu/ca/models.py?token=AB3APX6WCVXGMESMCKZ543TBQ5GIO > /dev/null 2> /dev/null\n",
    "!wget --output-document=utoronto/edu/ca/utils.py https://raw.githubusercontent.com/rbouadjenek/WWW22_LMRec/main/utoronto/edu/ca/utils.py?token=AB3APX7FSFALN33YP265CNDBQ5GIU > /dev/null 2> /dev/null\n",
    "!wget --output-document=utoronto/edu/ca/__init__.py https://raw.githubusercontent.com/rbouadjenek/WWW22_LMRec/main/utoronto/edu/ca/__init__.py?token=AB3APX44KTHTTLOXKIX4LFDBQ5G3U > /dev/null 2> /dev/null\n",
    "!wget --output-document=utoronto/edu/__init__.py https://raw.githubusercontent.com/rbouadjenek/WWW22_LMRec/main/utoronto/edu/ca/__init__.py?token=AB3APX44KTHTTLOXKIX4LFDBQ5G3U > /dev/null 2> /dev/null\n",
    "!wget --output-document=utoronto/__init__.py https://raw.githubusercontent.com/rbouadjenek/WWW22_LMRec/main/utoronto/edu/ca/__init__.py?token=AB3APX44KTHTTLOXKIX4LFDBQ5G3U > /dev/null 2> /dev/null\n",
    "!pip install tokenizers transformers > /dev/null 2> /dev/null \n",
    "\n",
    "from google.colab import drive\n",
    "drive.mount('/content/drive')\n"
   ]
  },
  {
   "cell_type": "code",
   "execution_count": null,
   "id": "39a6fc05",
   "metadata": {},
   "outputs": [],
   "source": [
    "import tensorflow as tf\n",
    "from tensorflow import keras\n",
    "from utoronto.edu.ca.data import Dataset\n",
    "import utoronto.edu.ca.models as models\n",
    "import utoronto.edu.ca.utils as utils\n",
    "import matplotlib.pyplot as plt\n",
    "import pandas as pd\n",
    "\n",
    "%matplotlib inline\n",
    "%load_ext autoreload\n",
    "%autoreload 2\n",
    "%load_ext tensorboard\n"
   ]
  },
  {
   "cell_type": "markdown",
   "id": "6bddc858",
   "metadata": {},
   "source": [
    "# Collect the data"
   ]
  },
  {
   "cell_type": "code",
   "execution_count": null,
   "id": "9e4d1599",
   "metadata": {},
   "outputs": [],
   "source": [
    "# dataset = Dataset('atlanta')\n",
    "# dataset = Dataset('austin')\n",
    "# dataset = Dataset('boston')\n",
    "dataset = Dataset('columbus')\n",
    "# dataset = Dataset('orlando')\n",
    "# dataset = Dataset('portland')\n",
    "# dataset = Dataset('toronto')\n",
    "\n",
    "early_stopping_callback = tf.keras.callbacks.EarlyStopping(monitor='val_accuracy', patience=3)\n"
   ]
  },
  {
   "cell_type": "markdown",
   "id": "d87adfef",
   "metadata": {},
   "source": [
    "# Create the model"
   ]
  },
  {
   "cell_type": "code",
   "execution_count": null,
   "id": "c0a826e3",
   "metadata": {},
   "outputs": [],
   "source": [
    "# Create the model\n",
    "model = models.get_model(dataset.max_len, dataset.num_labels, tpu=True)\n",
    "model.summary()\n",
    "#train model\n",
    "history = model.fit(dataset.X_train,\n",
    "                    dataset.y_train,\n",
    "                    validation_data=(dataset.X_eval, dataset.y_eval),\n",
    "                    epochs=15,\n",
    "                    batch_size=64,\n",
    "                    callbacks=[early_stopping_callback])\n",
    "utils.learning_plots(history)\n"
   ]
  },
  {
   "cell_type": "markdown",
   "id": "e806949c",
   "metadata": {},
   "source": [
    "# Save the model"
   ]
  },
  {
   "cell_type": "code",
   "execution_count": null,
   "id": "9cbda34f",
   "metadata": {},
   "outputs": [],
   "source": [
    "file_name = './saved_weights_' + dataset.dataset + '.h5'\n",
    "model.save_weights(file_name, overwrite=True)\n"
   ]
  },
  {
   "cell_type": "code",
   "execution_count": null,
   "id": "4e6282bb",
   "metadata": {},
   "outputs": [],
   "source": [
    "!cp $file_name /content/drive/MyDrive/\n"
   ]
  },
  {
   "cell_type": "markdown",
   "id": "00053e51",
   "metadata": {},
   "source": [
    "# Debug"
   ]
  },
  {
   "cell_type": "code",
   "execution_count": null,
   "id": "46d9f049",
   "metadata": {},
   "outputs": [],
   "source": []
  }
 ],
 "metadata": {
  "kernelspec": {
   "display_name": "Python 3",
   "language": "python",
   "name": "python3"
  },
  "language_info": {
   "codemirror_mode": {
    "name": "ipython",
    "version": 3
   },
   "file_extension": ".py",
   "mimetype": "text/x-python",
   "name": "python",
   "nbconvert_exporter": "python",
   "pygments_lexer": "ipython3",
   "version": "3.8.10"
  }
 },
 "nbformat": 4,
 "nbformat_minor": 5
}
